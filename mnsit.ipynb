{
  "nbformat": 4,
  "nbformat_minor": 0,
  "metadata": {
    "colab": {
      "provenance": [],
      "gpuType": "T4",
      "authorship_tag": "ABX9TyMqWkgq3VBTNGV7a3CG3Ud9",
      "include_colab_link": true
    },
    "kernelspec": {
      "name": "python3",
      "display_name": "Python 3"
    },
    "language_info": {
      "name": "python"
    },
    "accelerator": "GPU"
  },
  "cells": [
    {
      "cell_type": "markdown",
      "metadata": {
        "id": "view-in-github",
        "colab_type": "text"
      },
      "source": [
        "<a href=\"https://colab.research.google.com/github/mirkhalilrehman/MNIST-GANS/blob/main/mnsit.ipynb\" target=\"_parent\"><img src=\"https://colab.research.google.com/assets/colab-badge.svg\" alt=\"Open In Colab\"/></a>"
      ]
    },
    {
      "cell_type": "code",
      "execution_count": 1,
      "metadata": {
        "id": "vgyT_cb5Pttk"
      },
      "outputs": [],
      "source": [
        "import torch\n",
        "import torchvision\n",
        "import torch.nn as nn\n",
        "import torch.functional as F\n",
        "import numpy as np\n",
        "import matplotlib.pyplot as plt"
      ]
    },
    {
      "cell_type": "code",
      "source": [
        "import torchvision.datasets as datasets\n",
        "from torch.utils.data import DataLoader\n",
        "from torchvision.transforms import transforms"
      ],
      "metadata": {
        "id": "UEjFw1bqQbL6"
      },
      "execution_count": 4,
      "outputs": []
    },
    {
      "cell_type": "code",
      "source": [
        "device='cuda' if torch.cuda.is_available() else 'cpu'"
      ],
      "metadata": {
        "id": "jIU_m4zxTr_f"
      },
      "execution_count": 13,
      "outputs": []
    },
    {
      "cell_type": "code",
      "source": [
        "transform = transforms.Compose([\n",
        "    transforms.ToTensor(),                  # Convert PIL to tensor\n",
        "    transforms.Normalize((0.5,), (0.5,)),  # Normalize to [-1, 1]\n",
        "    transforms.RandomRotation(10),         # Random rotation within ±10 degrees\n",
        "    transforms.RandomAffine(0, translate=(0.1, 0.1)),  # Random translation\n",
        "])"
      ],
      "metadata": {
        "id": "FX-wkoSGRThQ"
      },
      "execution_count": 5,
      "outputs": []
    },
    {
      "cell_type": "code",
      "source": [
        "train_dataset=datasets.MNIST(root='data',train=True,download=True,transform=transform)\n",
        "test_dataset=datasets.MNIST(root='data',train=False,download=True,transform=transform)"
      ],
      "metadata": {
        "colab": {
          "base_uri": "https://localhost:8080/"
        },
        "id": "YtGDuMCpQZAV",
        "outputId": "26dc2ccc-7506-4b9e-95a5-e2f1129c5208"
      },
      "execution_count": 6,
      "outputs": [
        {
          "output_type": "stream",
          "name": "stdout",
          "text": [
            "Downloading http://yann.lecun.com/exdb/mnist/train-images-idx3-ubyte.gz\n",
            "Failed to download (trying next):\n",
            "<urlopen error [Errno 111] Connection refused>\n",
            "\n",
            "Downloading https://ossci-datasets.s3.amazonaws.com/mnist/train-images-idx3-ubyte.gz\n",
            "Downloading https://ossci-datasets.s3.amazonaws.com/mnist/train-images-idx3-ubyte.gz to data/MNIST/raw/train-images-idx3-ubyte.gz\n"
          ]
        },
        {
          "output_type": "stream",
          "name": "stderr",
          "text": [
            "100%|██████████| 9.91M/9.91M [00:00<00:00, 13.0MB/s]\n"
          ]
        },
        {
          "output_type": "stream",
          "name": "stdout",
          "text": [
            "Extracting data/MNIST/raw/train-images-idx3-ubyte.gz to data/MNIST/raw\n",
            "\n",
            "Downloading http://yann.lecun.com/exdb/mnist/train-labels-idx1-ubyte.gz\n",
            "Failed to download (trying next):\n",
            "<urlopen error [Errno 111] Connection refused>\n",
            "\n",
            "Downloading https://ossci-datasets.s3.amazonaws.com/mnist/train-labels-idx1-ubyte.gz\n",
            "Downloading https://ossci-datasets.s3.amazonaws.com/mnist/train-labels-idx1-ubyte.gz to data/MNIST/raw/train-labels-idx1-ubyte.gz\n"
          ]
        },
        {
          "output_type": "stream",
          "name": "stderr",
          "text": [
            "100%|██████████| 28.9k/28.9k [00:00<00:00, 350kB/s]\n"
          ]
        },
        {
          "output_type": "stream",
          "name": "stdout",
          "text": [
            "Extracting data/MNIST/raw/train-labels-idx1-ubyte.gz to data/MNIST/raw\n",
            "\n",
            "Downloading http://yann.lecun.com/exdb/mnist/t10k-images-idx3-ubyte.gz\n",
            "Failed to download (trying next):\n",
            "<urlopen error [Errno 111] Connection refused>\n",
            "\n",
            "Downloading https://ossci-datasets.s3.amazonaws.com/mnist/t10k-images-idx3-ubyte.gz\n",
            "Downloading https://ossci-datasets.s3.amazonaws.com/mnist/t10k-images-idx3-ubyte.gz to data/MNIST/raw/t10k-images-idx3-ubyte.gz\n"
          ]
        },
        {
          "output_type": "stream",
          "name": "stderr",
          "text": [
            "100%|██████████| 1.65M/1.65M [00:00<00:00, 3.22MB/s]\n"
          ]
        },
        {
          "output_type": "stream",
          "name": "stdout",
          "text": [
            "Extracting data/MNIST/raw/t10k-images-idx3-ubyte.gz to data/MNIST/raw\n",
            "\n",
            "Downloading http://yann.lecun.com/exdb/mnist/t10k-labels-idx1-ubyte.gz\n",
            "Failed to download (trying next):\n",
            "<urlopen error [Errno 111] Connection refused>\n",
            "\n",
            "Downloading https://ossci-datasets.s3.amazonaws.com/mnist/t10k-labels-idx1-ubyte.gz\n",
            "Downloading https://ossci-datasets.s3.amazonaws.com/mnist/t10k-labels-idx1-ubyte.gz to data/MNIST/raw/t10k-labels-idx1-ubyte.gz\n"
          ]
        },
        {
          "output_type": "stream",
          "name": "stderr",
          "text": [
            "100%|██████████| 4.54k/4.54k [00:00<00:00, 2.57MB/s]"
          ]
        },
        {
          "output_type": "stream",
          "name": "stdout",
          "text": [
            "Extracting data/MNIST/raw/t10k-labels-idx1-ubyte.gz to data/MNIST/raw\n",
            "\n"
          ]
        },
        {
          "output_type": "stream",
          "name": "stderr",
          "text": [
            "\n"
          ]
        }
      ]
    },
    {
      "cell_type": "code",
      "source": [
        "train_loader = DataLoader(train_dataset, batch_size=128, shuffle=True)"
      ],
      "metadata": {
        "id": "pF30SIVRVCa9"
      },
      "execution_count": 21,
      "outputs": []
    },
    {
      "cell_type": "code",
      "source": [
        "def gen_block(inp,out,kernel,stride):\n",
        "  return nn.Sequential(\n",
        "      nn.ConvTranspose2d(inp,out,kernel_size=kernel,stride=stride),\n",
        "      nn.BatchNorm2d(out),\n",
        "      nn.ReLU()\n",
        "  )\n"
      ],
      "metadata": {
        "id": "mNFz6IO5RdZQ"
      },
      "execution_count": 7,
      "outputs": []
    },
    {
      "cell_type": "code",
      "source": [
        "class Generator(nn.Module):\n",
        "  def __init__(self,inp,kernel_size=4,stride=2):\n",
        "    super(Generator, self).__init__()\n",
        "    self.inp=inp\n",
        "    self.gen=nn.Sequential(\n",
        "        gen_block(inp,1024,kernel_size,stride),\n",
        "        gen_block(1024,512,kernel_size,stride),\n",
        "        gen_block(512,256,kernel_size,stride),\n",
        "        nn.ConvTranspose2d(256,1,kernel_size=kernel_size,stride=stride),\n",
        "        nn.Tanh()\n",
        "    )\n",
        "\n",
        "  def forward(self,x):\n",
        "    x=x.view(len(x),self.inp,1,1)\n",
        "    return(self.gen(x))\n"
      ],
      "metadata": {
        "id": "tkqLLQ9AR-fH"
      },
      "execution_count": 18,
      "outputs": []
    },
    {
      "cell_type": "code",
      "source": [
        "def disc_block(inp, out, kernel_size, stride):\n",
        "    return nn.Sequential(\n",
        "        nn.Conv2d(inp, out, kernel_size, stride=stride),\n",
        "        nn.BatchNorm2d(out),\n",
        "        nn.LeakyReLU(0.2))"
      ],
      "metadata": {
        "id": "nKfs-WRaTQ2n"
      },
      "execution_count": 10,
      "outputs": []
    },
    {
      "cell_type": "code",
      "source": [
        "class Discriminator(nn.Module):\n",
        "    def __init__(self, kernel_size=4, stride=2):\n",
        "      super(Discriminator, self).__init__()\n",
        "      self.disc = nn.Sequential(\n",
        "          \t# Add first discriminator block\n",
        "            disc_block(1, 512, kernel_size, stride),\n",
        "            disc_block(512, 1024, kernel_size, stride),\n",
        "          \t# Add a convolution\n",
        "            nn.Conv2d(1024, 1, kernel_size, stride=stride),\n",
        "        )\n",
        "\n",
        "\n",
        "    def forward(self, x):\n",
        "        # Pass input through sequential block\n",
        "        x = self.disc(x)\n",
        "        return x.view(len(x), -1)"
      ],
      "metadata": {
        "id": "MXUHdPAWTYj_"
      },
      "execution_count": 20,
      "outputs": []
    },
    {
      "cell_type": "code",
      "source": [
        "\n",
        "def gen_loss(gen, disc, num_images, z_dim):\n",
        "    # Define random noise\n",
        "    noise = torch.rand(num_images, z_dim).to(device)\n",
        "\n",
        "    # Generate fake image\n",
        "    fake = gen(noise)\n",
        "    # Get discriminator's prediction on the fake image\n",
        "    disc_pred =disc(fake)\n",
        "    # Compute generator loss\n",
        "    criterion = nn.BCEWithLogitsLoss()\n",
        "    gen_loss = criterion(disc_pred, torch.ones_like(disc_pred))\n",
        "    return gen_loss\n",
        "\n",
        "def disc_loss(gen, disc, real, num_images, z_dim):\n",
        "    criterion = nn.BCEWithLogitsLoss()\n",
        "    noise = torch.randn(num_images, z_dim).to(device)\n",
        "    fake = gen(noise)\n",
        "    # Get discriminator's predictions for fake images\n",
        "    disc_pred_fake = disc(fake)\n",
        "    # Calculate the fake loss component\n",
        "    fake_loss = criterion(disc_pred_fake,torch.zeros_like(disc_pred_fake))\n",
        "    # Get discriminator's predictions for real images\n",
        "    disc_pred_real = disc(real)\n",
        "    # Calculate the real loss component\n",
        "    real_loss = criterion(disc_pred_real,torch.ones_like(disc_pred_real))\n",
        "    disc_loss = (real_loss + fake_loss) / 2\n",
        "    return disc_loss"
      ],
      "metadata": {
        "id": "vBWpkiEpTgli"
      },
      "execution_count": 14,
      "outputs": []
    },
    {
      "cell_type": "code",
      "source": [
        "gen=Generator(inp=16).to(device)\n",
        "disc=Discriminator().to(device)"
      ],
      "metadata": {
        "id": "O1rZX5efT4J_"
      },
      "execution_count": 22,
      "outputs": []
    },
    {
      "cell_type": "code",
      "source": [
        "gen_opt = torch.optim.Adam(gen.parameters(), lr=0.001, betas=(0.5, 0.999))\n",
        "disc_opt = torch.optim.Adam(disc.parameters(), lr=0.001, betas=(0.5, 0.999))"
      ],
      "metadata": {
        "id": "SGk5d13wUM7t"
      },
      "execution_count": 23,
      "outputs": []
    },
    {
      "cell_type": "code",
      "source": [
        "import torch\n",
        "from tqdm import tqdm\n",
        "import matplotlib.pyplot as plt\n",
        "\n",
        "# Denormalization function\n",
        "def denormalize(tensor, mean=(0.5,), std=(0.5,)):\n",
        "    for t, m, s in zip(tensor, mean, std):\n",
        "        t.mul_(s).add_(m)  # Scale by std and add mean\n",
        "    return tensor\n",
        "\n",
        "# Training Loop\n",
        "EPOCHS = 10\n",
        "z_dim = 16\n",
        "\n",
        "for epoch in range(EPOCHS):\n",
        "    print(f\"Epoch {epoch + 1}/{EPOCHS}\")\n",
        "    epoch_gen_loss = 0.0\n",
        "    epoch_disc_loss = 0.0\n",
        "\n",
        "    for real in tqdm(train_loader):  # Use train_loader from the previous code\n",
        "        real_images = real[0].to(device)\n",
        "        cur_batch_size = len(real_images)\n",
        "\n",
        "        # Train Discriminator\n",
        "        disc_opt.zero_grad()\n",
        "        disc_loss_val = disc_loss(gen, disc, real_images, cur_batch_size, z_dim=z_dim)\n",
        "        disc_loss_val.backward()\n",
        "        disc_opt.step()\n",
        "\n",
        "        # Train Generator\n",
        "        gen_opt.zero_grad()\n",
        "        gen_loss_val = gen_loss(gen, disc, cur_batch_size, z_dim=z_dim)\n",
        "        gen_loss_val.backward()\n",
        "        gen_opt.step()\n",
        "\n",
        "        # Accumulate losses\n",
        "        epoch_gen_loss += gen_loss_val.item()\n",
        "        epoch_disc_loss += disc_loss_val.item()\n",
        "\n",
        "    # Average losses\n",
        "    avg_gen_loss = epoch_gen_loss / len(train_loader)\n",
        "    avg_disc_loss = epoch_disc_loss / len(train_loader)\n",
        "\n",
        "    print(f\"Epoch {epoch + 1}: Generator Loss: {avg_gen_loss:.4f}, Discriminator Loss: {avg_disc_loss:.4f}\")\n",
        "\n",
        "    # Generate and visualize images every few epochs\n",
        "    if (epoch + 1) % 2 == 0 or epoch == EPOCHS - 1:\n",
        "        num_images_to_generate = 5\n",
        "        noise = torch.randn(num_images_to_generate, z_dim).to(device)\n",
        "        with torch.no_grad():\n",
        "            fake_images = gen(noise)\n",
        "\n",
        "        # Visualize generated images\n",
        "        for i in range(num_images_to_generate):\n",
        "            image_tensor = fake_images[i].detach().cpu()\n",
        "            image_tensor = denormalize(image_tensor, mean=(0.5,), std=(0.5,))\n",
        "            image_tensor = image_tensor.clamp(0, 1)\n",
        "            image_numpy = image_tensor.squeeze().numpy()  # Remove channel dim for grayscale\n",
        "            plt.imshow(image_numpy, cmap=\"gray\")\n",
        "            plt.axis(\"off\")\n",
        "            plt.show()\n"
      ],
      "metadata": {
        "colab": {
          "base_uri": "https://localhost:8080/",
          "height": 1000
        },
        "id": "tT6k8S4QVbsc",
        "outputId": "cb7d9822-9eb2-49a9-e3a5-03e128bc8907"
      },
      "execution_count": null,
      "outputs": [
        {
          "metadata": {
            "tags": null
          },
          "name": "stdout",
          "output_type": "stream",
          "text": [
            "Epoch 1/10\n"
          ]
        },
        {
          "metadata": {
            "tags": null
          },
          "name": "stderr",
          "output_type": "stream",
          "text": [
            "100%|██████████| 469/469 [07:38<00:00,  1.02it/s]\n"
          ]
        },
        {
          "metadata": {
            "tags": null
          },
          "name": "stdout",
          "output_type": "stream",
          "text": [
            "Epoch 1: Generator Loss: 0.7359, Discriminator Loss: 0.0019\n",
            "Epoch 2/10\n"
          ]
        },
        {
          "metadata": {
            "tags": null
          },
          "name": "stderr",
          "output_type": "stream",
          "text": [
            "100%|██████████| 469/469 [07:37<00:00,  1.03it/s]"
          ]
        },
        {
          "metadata": {
            "tags": null
          },
          "name": "stdout",
          "output_type": "stream",
          "text": [
            "Epoch 2: Generator Loss: 0.4814, Discriminator Loss: 0.0372\n"
          ]
        },
        {
          "metadata": {
            "tags": null
          },
          "name": "stderr",
          "output_type": "stream",
          "text": [
            "\n"
          ]
        },
        {
          "data": {
            "image/png": "[encoded data removed]",
            "text/plain": [
              "<Figure size 640x480 with 1 Axes>"
            ]
          },
          "metadata": {},
          "output_type": "display_data"
        },
        {
          "data": {
            "image/png": "[encoded data removed]",
            "text/plain": [
              "<Figure size 640x480 with 1 Axes>"
            ]
          },
          "metadata": {},
          "output_type": "display_data"
        },
        {
          "data": {
            "image/png": "[encoded data removed]",
            "text/plain": [
              "<Figure size 640x480 with 1 Axes>"
            ]
          },
          "metadata": {},
          "output_type": "display_data"
        },
        {
          "data": {
            "image/png": "[encoded data removed]",
            "text/plain": [
              "<Figure size 640x480 with 1 Axes>"
            ]
          },
          "metadata": {},
          "output_type": "display_data"
        },
        {
          "data": {
            "image/png": "[encoded data removed]",
            "text/plain": [
              "<Figure size 640x480 with 1 Axes>"
            ]
          },
          "metadata": {},
          "output_type": "display_data"
        },
        {
          "metadata": {
            "tags": null
          },
          "name": "stdout",
          "output_type": "stream",
          "text": [
            "Epoch 3/10\n"
          ]
        },
        {
          "metadata": {
            "tags": null
          },
          "name": "stderr",
          "output_type": "stream",
          "text": [
            "100%|██████████| 469/469 [07:38<00:00,  1.02it/s]\n"
          ]
        },
        {
          "metadata": {
            "tags": null
          },
          "name": "stdout",
          "output_type": "stream",
          "text": [
            "Epoch 3: Generator Loss: 0.0244, Discriminator Loss: 0.0005\n",
            "Epoch 4/10\n"
          ]
        },
        {
          "metadata": {
            "tags": null
          },
          "name": "stderr",
          "output_type": "stream",
          "text": [
            "100%|██████████| 469/469 [07:37<00:00,  1.03it/s]"
          ]
        },
        {
          "metadata": {
            "tags": null
          },
          "name": "stdout",
          "output_type": "stream",
          "text": [
            "Epoch 4: Generator Loss: 0.0204, Discriminator Loss: 0.0003\n"
          ]
        },
        {
          "metadata": {
            "tags": null
          },
          "name": "stderr",
          "output_type": "stream",
          "text": [
            "\n"
          ]
        },
        {
          "data": {
            "image/png": "[encoded data removed]",
            "text/plain": [
              "<Figure size 640x480 with 1 Axes>"
            ]
          },
          "metadata": {},
          "output_type": "display_data"
        },
        {
          "data": {
            "image/png": "[encoded data removed]",
            "text/plain": [
              "<Figure size 640x480 with 1 Axes>"
            ]
          },
          "metadata": {},
          "output_type": "display_data"
        },
        {
          "data": {
            "image/png": "[encoded data removed]",
            "text/plain": [
              "<Figure size 640x480 with 1 Axes>"
            ]
          },
          "metadata": {},
          "output_type": "display_data"
        },
        {
          "data": {
            "image/png": "[encoded data removed]",
            "text/plain": [
              "<Figure size 640x480 with 1 Axes>"
            ]
          },
          "metadata": {},
          "output_type": "display_data"
        },
        {
          "data": {
            "image/png": "[encoded data removed]",
            "text/plain": [
              "<Figure size 640x480 with 1 Axes>"
            ]
          },
          "metadata": {},
          "output_type": "display_data"
        },
        {
          "metadata": {
            "tags": null
          },
          "name": "stdout",
          "output_type": "stream",
          "text": [
            "Epoch 5/10\n"
          ]
        },
        {
          "output_type": "stream",
          "name": "stderr",
          "text": [
            " 94%|█████████▍| 443/469 [07:13<00:25,  1.02it/s]"
          ]
        }
      ]
    },
    {
      "cell_type": "code",
      "source": [],
      "metadata": {
        "id": "lNoSVNMKV5M4"
      },
      "execution_count": null,
      "outputs": []
    }
  ]
}